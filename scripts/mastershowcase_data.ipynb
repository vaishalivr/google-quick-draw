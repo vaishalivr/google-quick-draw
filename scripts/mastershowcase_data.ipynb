{
 "cells": [
  {
   "cell_type": "code",
   "execution_count": 67,
   "id": "9f72befc",
   "metadata": {},
   "outputs": [],
   "source": [
    "import json\n",
    "file_path_dishwasher = '../full_simplified/full_simplified_dishwasher.ndjson'"
   ]
  },
  {
   "cell_type": "code",
   "execution_count": 68,
   "id": "8f3f6ba1",
   "metadata": {},
   "outputs": [],
   "source": [
    "countries_list = ['United States', \n",
    "                  'Brazil', \n",
    "                  'Nigeria', \n",
    "                  'China', \n",
    "                  'India', \n",
    "                  'Germany',\n",
    "                 'Saudi Arabia',\n",
    "                 'Australia',\n",
    "                 'Vietman',\n",
    "                 'Kenya',\n",
    "                 'Mexico',\n",
    "                 'Poland']\n",
    "\n",
    "category_list = ['dishwasher',\n",
    "                  'blackberry',\n",
    "                  'cookies',\n",
    "                  'fan',\n",
    "                  'monaLisa',\n",
    "                  'greatWallofChina',\n",
    "                  'nail',\n",
    "                  'beach',\n",
    "                  'coffeeCup',\n",
    "                  'dresser',\n",
    "                  'mailBox',\n",
    "                  'house',\n",
    "                  'iceCream',\n",
    "                  'hand',\n",
    "                  'fence',\n",
    "                  'dumbBell',\n",
    "                  'suitcase',\n",
    "                  'smileyFace',\n",
    "                  'sink',\n",
    "                  'camera',\n",
    "                  'divingBoard',\n",
    "                  'motorbike',\n",
    "                  'marker',\n",
    "                  'policeCar',\n",
    "                  'paintbrush',\n",
    "                  'necklace',\n",
    "                  'passport',\n",
    "                  'river',\n",
    "                  'shoe',\n",
    "                  'whale',\n",
    "                  'tree',\n",
    "                  'teddyBear',\n",
    "                  'vase',\n",
    "                  'telephone',\n",
    "                  'washingMachine',\n",
    "                  'wristWatch',\n",
    "                  'umbrella',\n",
    "                  'swingset',\n",
    "                  'sweater',\n",
    "                  'tShirt']"
   ]
  },
  {
   "cell_type": "code",
   "execution_count": 69,
   "id": "93c87f97",
   "metadata": {},
   "outputs": [
    {
     "name": "stderr",
     "output_type": "stream",
     "text": [
      "IOPub data rate exceeded.\n",
      "The notebook server will temporarily stop sending output\n",
      "to the client in order to avoid crashing it.\n",
      "To change this limit, set the config variable\n",
      "`--NotebookApp.iopub_data_rate_limit`.\n",
      "\n",
      "Current values:\n",
      "NotebookApp.iopub_data_rate_limit=1000000.0 (bytes/sec)\n",
      "NotebookApp.rate_limit_window=3.0 (secs)\n",
      "\n"
     ]
    }
   ],
   "source": [
    "with open(file_path_dishwasher, 'r') as file:\n",
    "    recognized_false = []\n",
    "    recognized_false_us = []\n",
    "    for line in file:\n",
    "        drawing = json.loads(line)\n",
    "        if (drawing[\"recognized\"] == False):\n",
    "            recognized_false.append(drawing)\n",
    "            if drawing['countrycode'] == 'US':\n",
    "                recognized_false_us.append(drawing)\n",
    "    \n",
    "    #print(recognized_false)\n",
    "    print(recognized_false_us)\n"
   ]
  },
  {
   "cell_type": "code",
   "execution_count": null,
   "id": "0a9420e9",
   "metadata": {},
   "outputs": [],
   "source": []
  }
 ],
 "metadata": {
  "kernelspec": {
   "display_name": "Python 3 (ipykernel)",
   "language": "python",
   "name": "python3"
  },
  "language_info": {
   "codemirror_mode": {
    "name": "ipython",
    "version": 3
   },
   "file_extension": ".py",
   "mimetype": "text/x-python",
   "name": "python",
   "nbconvert_exporter": "python",
   "pygments_lexer": "ipython3",
   "version": "3.9.13"
  }
 },
 "nbformat": 4,
 "nbformat_minor": 5
}
