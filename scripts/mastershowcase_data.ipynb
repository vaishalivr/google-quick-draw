{
 "cells": [
  {
   "cell_type": "code",
   "execution_count": 23,
   "id": "e318b145",
   "metadata": {},
   "outputs": [],
   "source": [
    "import json\n",
    "file_path_dishwasher = '../full_simplified/full_simplified_dishwasher_sample.ndjson'"
   ]
  },
  {
   "cell_type": "code",
   "execution_count": 34,
   "id": "f5aef191",
   "metadata": {},
   "outputs": [
    {
     "name": "stdout",
     "output_type": "stream",
     "text": [
      "5609617633574912\n",
      "5831314701811712\n",
      "6415895201054720\n",
      "5535204372381696\n",
      "5786498248998912\n",
      "6335211325358080\n",
      "6572195855728640\n",
      "4555341675102208\n",
      "4702000887365632\n",
      "5133060460773376\n",
      "5247746707554304\n",
      "6719275584716800\n",
      "6487021990182912\n",
      "6213085876453376\n",
      "5185100113248256\n",
      "5770545847074816\n",
      "5839518542331904\n"
     ]
    }
   ],
   "source": [
    "mastershowcase_data = {}\n",
    "item_list = ['Dishwasher', 'Blackberry', 'Cookies', 'Fan', 'Mona Lisa', 'Great Wall of China', 'Nail', 'Beach', 'Coffee Cup', 'Dresser', 'Mail Box', 'House', 'Ice Cream', 'Hand', 'Fence', 'Dumb Bell', 'Suitcase', 'Smiley Face', 'Sink', 'Camera', 'Diving Board', 'Motorbike', 'Marker', 'Police Car', 'Paint Brush', 'Necklace', 'Passport', 'River', 'Shoe', 'Whale', 'Tree', 'Teddy Bear', 'Vase', 'Telephone', 'Washing Machine', 'Wristwatch', 'Umbrella', 'Swing Set', 'Sweater', 'T-shirt']\n",
    "\n",
    "for item in item_list:\n",
    "    mastershowcase_data[item] = {}\n",
    "    \n",
    "dishwasher_key_ids = {6028436336279552,\n",
    "5281047786815488,\n",
    "5915257874677760,\n",
    "4607929099485184,\n",
    "4957553886756864,\n",
    "5363031968055296,\n",
    "5771262955618304,\n",
    "4766148530798592,\n",
    "5344680763981824,\n",
    "6062699676958720,\n",
    "5329927282884608,\n",
    "5272456631681024,\n",
    "5434471702593536,\n",
    "5077501787242496,\n",
    "5866262582263808,\n",
    "5388642711240704,\n",
    "5232202658873344,\n",
    "5515473426841600,\n",
    "5950301938909184,\n",
    "6699071051923456,\n",
    "6488950648602624,\n",
    "6685046826074112,\n",
    "5192470713335808,\n",
    "5839518542331904}\n",
    "\n",
    "with open(file_path_dishwasher, 'r') as file:\n",
    "    for line in file:\n",
    "        record = json.loads(line)\n",
    "        print(record['key_id'])\n",
    "        if \n",
    "        \n",
    "        \n"
   ]
  },
  {
   "cell_type": "code",
   "execution_count": null,
   "id": "1f6dfa87",
   "metadata": {},
   "outputs": [],
   "source": []
  }
 ],
 "metadata": {
  "kernelspec": {
   "display_name": "Python 3 (ipykernel)",
   "language": "python",
   "name": "python3"
  },
  "language_info": {
   "codemirror_mode": {
    "name": "ipython",
    "version": 3
   },
   "file_extension": ".py",
   "mimetype": "text/x-python",
   "name": "python",
   "nbconvert_exporter": "python",
   "pygments_lexer": "ipython3",
   "version": "3.9.13"
  }
 },
 "nbformat": 4,
 "nbformat_minor": 5
}
