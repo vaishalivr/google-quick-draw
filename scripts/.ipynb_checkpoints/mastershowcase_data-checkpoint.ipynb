{
 "cells": [
  {
   "cell_type": "code",
   "execution_count": 23,
   "id": "100bef5e",
   "metadata": {},
   "outputs": [],
   "source": [
    "import json\n",
    "file_path_dishwasher = '../full_simplified/full_simplified_dishwasher_sample.ndjson'"
   ]
  },
  {
   "cell_type": "code",
   "execution_count": 40,
   "id": "52b7d258",
   "metadata": {},
   "outputs": [],
   "source": [
    "countries_list = ['United States', \n",
    "                  'Brazil', \n",
    "                  'Nigeria', \n",
    "                  'China', \n",
    "                  'India', \n",
    "                  'Germany',\n",
    "                 'Saudi Arabia',\n",
    "                 'Australia',\n",
    "                 'Vietman',\n",
    "                 'Kenya',\n",
    "                 'Mexico',\n",
    "                 'Poland']\n",
    "\n",
    "category_list = ['dishwasher',\n",
    "                  'blackberry',\n",
    "                  'cookies',\n",
    "                  'fan',\n",
    "                  'monaLisa',\n",
    "                  'greatWallofChina',\n",
    "                  'nail',\n",
    "                  'beach',\n",
    "                  'coffeeCup',\n",
    "                  'dresser',\n",
    "                  'mailBox',\n",
    "                  'house',\n",
    "                  'iceCream',\n",
    "                  'hand',\n",
    "                  'fence',\n",
    "                  'dumbBell',\n",
    "                  'suitcase',\n",
    "                  'smileyFace',\n",
    "                  'sink',\n",
    "                  'camera',\n",
    "                  'divingBoard',\n",
    "                  'motorbike',\n",
    "                  'marker',\n",
    "                  'policeCar',\n",
    "                  'paintbrush',\n",
    "                  'necklace',\n",
    "                  'passport',\n",
    "                  'river',\n",
    "                  'shoe',\n",
    "                  'whale',\n",
    "                  'tree',\n",
    "                  'teddyBear',\n",
    "                  'vase',\n",
    "                  'telephone',\n",
    "                  'washingMachine',\n",
    "                  'wristWatch',\n",
    "                  'umbrella',\n",
    "                  'swingset',\n",
    "                  'sweater',\n",
    "                  'tShirt']"
   ]
  },
  {
   "cell_type": "code",
   "execution_count": 51,
   "id": "7645268a",
   "metadata": {},
   "outputs": [
    {
     "ename": "TypeError",
     "evalue": "string indices must be integers",
     "output_type": "error",
     "traceback": [
      "\u001b[0;31m---------------------------------------------------------------------------\u001b[0m",
      "\u001b[0;31mTypeError\u001b[0m                                 Traceback (most recent call last)",
      "\u001b[0;32m/var/folders/5d/y6mb1cy578sgycx9dr3z9g780000gn/T/ipykernel_12342/666103877.py\u001b[0m in \u001b[0;36m<module>\u001b[0;34m\u001b[0m\n\u001b[1;32m      4\u001b[0m         \u001b[0mline\u001b[0m \u001b[0;34m=\u001b[0m \u001b[0mfile\u001b[0m\u001b[0;34m.\u001b[0m\u001b[0mreadline\u001b[0m\u001b[0;34m(\u001b[0m\u001b[0;34m)\u001b[0m\u001b[0;34m\u001b[0m\u001b[0;34m\u001b[0m\u001b[0m\n\u001b[1;32m      5\u001b[0m         \u001b[0;31m#recognized_false.append(line)\u001b[0m\u001b[0;34m\u001b[0m\u001b[0;34m\u001b[0m\u001b[0m\n\u001b[0;32m----> 6\u001b[0;31m         \u001b[0mprint\u001b[0m\u001b[0;34m(\u001b[0m\u001b[0mline\u001b[0m\u001b[0;34m[\u001b[0m\u001b[0;34m\"recognized\"\u001b[0m\u001b[0;34m]\u001b[0m\u001b[0;34m)\u001b[0m\u001b[0;34m\u001b[0m\u001b[0;34m\u001b[0m\u001b[0m\n\u001b[0m\u001b[1;32m      7\u001b[0m     \u001b[0;31m#print(recognized_false)\u001b[0m\u001b[0;34m\u001b[0m\u001b[0;34m\u001b[0m\u001b[0m\n\u001b[1;32m      8\u001b[0m \u001b[0;34m\u001b[0m\u001b[0m\n",
      "\u001b[0;31mTypeError\u001b[0m: string indices must be integers"
     ]
    }
   ],
   "source": [
    "with open(file_path_dishwasher, 'r') as file:\n",
    "    recognized_false = []\n",
    "    for i in range(5):\n",
    "        line = file.readline()\n",
    "        drawing = json.loads(line)\n",
    "        #recognized_false.append(line)\n",
    "        print(line[\"recognized\"])\n",
    "    #print(recognized_false)\n",
    "    \n",
    "\n"
   ]
  },
  {
   "cell_type": "code",
   "execution_count": null,
   "id": "dc491fbf",
   "metadata": {},
   "outputs": [],
   "source": []
  }
 ],
 "metadata": {
  "kernelspec": {
   "display_name": "Python 3 (ipykernel)",
   "language": "python",
   "name": "python3"
  },
  "language_info": {
   "codemirror_mode": {
    "name": "ipython",
    "version": 3
   },
   "file_extension": ".py",
   "mimetype": "text/x-python",
   "name": "python",
   "nbconvert_exporter": "python",
   "pygments_lexer": "ipython3",
   "version": "3.9.13"
  }
 },
 "nbformat": 4,
 "nbformat_minor": 5
}
