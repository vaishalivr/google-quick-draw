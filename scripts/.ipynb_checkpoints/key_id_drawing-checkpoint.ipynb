{
 "cells": [
  {
   "cell_type": "code",
   "execution_count": 7,
   "id": "076dc715",
   "metadata": {},
   "outputs": [],
   "source": [
    "file_path_house = '../full_simplified/full_simplified_house.ndjson'\n",
    "file_path_nail = \"full_simplified_nail.ndjson\"\n",
    "file_path_fan = 'full_simplified_fan.ndjson'\n",
    "file_path_dishwasher = 'full_simplified_dishwasher.ndjson'\n",
    "file_path_blackberry = 'full_simplified_blackberry.ndjson'\n",
    "file_path_leaf = 'full_simplified_leaf.ndjson'"
   ]
  },
  {
   "cell_type": "code",
   "execution_count": 12,
   "id": "18f32024",
   "metadata": {},
   "outputs": [],
   "source": [
    "import json\n",
    "import matplotlib\n",
    "import matplotlib.pyplot as plt\n",
    "\n",
    "def draw_from_ndjson(file_path, target_key_id, save_path):\n",
    "    with open(file_path, 'r') as file:\n",
    "        for line in file:\n",
    "            data = json.loads(line)\n",
    "            if data['key_id'] == str(target_key_id):\n",
    "                draw_house(data['drawing'])\n",
    "                break\n",
    "\n",
    "def draw_house(drawing_data):\n",
    "    plt.figure(figsize=(1.5, 1))\n",
    "    for stroke in drawing_data:\n",
    "        plt.plot(stroke[0], [y for y in stroke[1]], color='black', linewidth=1)  \n",
    "    plt.axis('off')\n",
    "    plt.gca().invert_yaxis() \n",
    "    plt.savefig(save_path, bbox_inches='tight', pad_inches=0)\n",
    "    plt.show()\n",
    "    plt.close()\n",
    "\n",
    "file_path = file_path_house\n",
    "target_key_id = 5281047786815488\n",
    "save_path = '../scripts/tooltip-leaf.png'\n",
    "draw_from_ndjson(file_path, target_key_id, save_path)\n"
   ]
  },
  {
   "cell_type": "code",
   "execution_count": 32,
   "id": "90ecad7c",
   "metadata": {},
   "outputs": [],
   "source": [
    "# Notes : nail tooltip keyid = 5630185493757952\n",
    "#     house tooltip key id = 5089582271954944 \n",
    "# fan key id = 5118763739381760\n",
    "# dishwasher key id = 5915257874677760 and 6673181093920768\n",
    "# blackberry = 5098333183934464 and 6424154557382656\n",
    "# canadaleaf = 6216938227236864 \n",
    "#normalleaf = 6649062268862464"
   ]
  },
  {
   "cell_type": "code",
   "execution_count": 13,
   "id": "5512afe0",
   "metadata": {},
   "outputs": [],
   "source": [
    "def draw_from_ndjson(file_path, target_key_id):\n",
    "    with open(file_path, 'r') as file:\n",
    "        for line in file:\n",
    "            data = json.loads(line)\n",
    "            if data['key_id'] == str(target_key_id):\n",
    "                draw_house(data['drawing'])\n",
    "                break\n",
    "\n",
    "def draw_house(drawing_data):\n",
    "    plt.figure(figsize=(1.5, 1))\n",
    "    for stroke in drawing_data:\n",
    "        plt.plot(stroke[0], [y for y in stroke[1]], color='black', linewidth=1)  \n",
    "    plt.axis('off')\n",
    "    plt.gca().invert_yaxis() \n",
    "    plt.show()\n",
    "\n",
    "file_path = file_path_house\n",
    "target_key_id = 5281047786815488\n",
    "draw_from_ndjson(file_path, target_key_id)"
   ]
  },
  {
   "cell_type": "code",
   "execution_count": null,
   "id": "93e51736",
   "metadata": {},
   "outputs": [],
   "source": []
  }
 ],
 "metadata": {
  "kernelspec": {
   "display_name": "Python 3 (ipykernel)",
   "language": "python",
   "name": "python3"
  },
  "language_info": {
   "codemirror_mode": {
    "name": "ipython",
    "version": 3
   },
   "file_extension": ".py",
   "mimetype": "text/x-python",
   "name": "python",
   "nbconvert_exporter": "python",
   "pygments_lexer": "ipython3",
   "version": "3.9.13"
  }
 },
 "nbformat": 4,
 "nbformat_minor": 5
}
