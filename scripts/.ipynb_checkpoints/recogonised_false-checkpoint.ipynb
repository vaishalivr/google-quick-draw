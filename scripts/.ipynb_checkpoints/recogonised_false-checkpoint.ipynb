{
 "cells": [
  {
   "cell_type": "code",
   "execution_count": null,
   "id": "fa4f7cc3",
   "metadata": {},
   "outputs": [],
   "source": [
    "### TO FIND ALL RECOGNIZED DRAWINGS = FALSE"
   ]
  },
  {
   "cell_type": "code",
   "execution_count": 4,
   "id": "8e2c5f3c",
   "metadata": {},
   "outputs": [],
   "source": [
    "#file_path_dishwasher = 'full_simplified_dishwasher.ndjson'\n",
    "#file_path_blackberry = 'full_simplified_blackberry.ndjson'\n",
    "#file_path_cookie = 'full_simplified_cookie.ndjson'\n",
    "#file_path_fan = 'full_simplified/full_simplified_fan.ndjson'\n",
    "file_path_mona = '../full_simplified/full_simplified_The Mona Lisa.ndjson'\n",
    "#file_path_greatWall = 'full_simplified_The Great Wall of China.ndjson'"
   ]
  },
  {
   "cell_type": "code",
   "execution_count": 3,
   "id": "72f085fd",
   "metadata": {},
   "outputs": [
    {
     "name": "stdout",
     "output_type": "stream",
     "text": [
      "one\n"
     ]
    },
    {
     "ename": "FileNotFoundError",
     "evalue": "[Errno 2] No such file or directory: 'full_simplified/full_simplified_The Mona Lisa.ndjson'",
     "output_type": "error",
     "traceback": [
      "\u001b[0;31m---------------------------------------------------------------------------\u001b[0m",
      "\u001b[0;31mFileNotFoundError\u001b[0m                         Traceback (most recent call last)",
      "\u001b[0;32m/var/folders/5d/y6mb1cy578sgycx9dr3z9g780000gn/T/ipykernel_66778/3217311618.py\u001b[0m in \u001b[0;36m<module>\u001b[0;34m\u001b[0m\n\u001b[1;32m     12\u001b[0m \u001b[0;31m# Collect all 'dishwasher' drawings that are recognized as 'false'\u001b[0m\u001b[0;34m\u001b[0m\u001b[0;34m\u001b[0m\u001b[0m\n\u001b[1;32m     13\u001b[0m \u001b[0mselected_drawings\u001b[0m \u001b[0;34m=\u001b[0m \u001b[0;34m[\u001b[0m\u001b[0;34m]\u001b[0m\u001b[0;34m\u001b[0m\u001b[0;34m\u001b[0m\u001b[0m\n\u001b[0;32m---> 14\u001b[0;31m \u001b[0;32mwith\u001b[0m \u001b[0mopen\u001b[0m\u001b[0;34m(\u001b[0m\u001b[0mfile_path\u001b[0m\u001b[0;34m,\u001b[0m \u001b[0;34m'r'\u001b[0m\u001b[0;34m)\u001b[0m \u001b[0;32mas\u001b[0m \u001b[0mfile\u001b[0m\u001b[0;34m:\u001b[0m\u001b[0;34m\u001b[0m\u001b[0;34m\u001b[0m\u001b[0m\n\u001b[0m\u001b[1;32m     15\u001b[0m     \u001b[0;32mfor\u001b[0m \u001b[0mline\u001b[0m \u001b[0;32min\u001b[0m \u001b[0mfile\u001b[0m\u001b[0;34m:\u001b[0m\u001b[0;34m\u001b[0m\u001b[0;34m\u001b[0m\u001b[0m\n\u001b[1;32m     16\u001b[0m         \u001b[0mdrawing\u001b[0m \u001b[0;34m=\u001b[0m \u001b[0mjson\u001b[0m\u001b[0;34m.\u001b[0m\u001b[0mloads\u001b[0m\u001b[0;34m(\u001b[0m\u001b[0mline\u001b[0m\u001b[0;34m)\u001b[0m\u001b[0;34m\u001b[0m\u001b[0;34m\u001b[0m\u001b[0m\n",
      "\u001b[0;31mFileNotFoundError\u001b[0m: [Errno 2] No such file or directory: 'full_simplified/full_simplified_The Mona Lisa.ndjson'"
     ]
    }
   ],
   "source": [
    "import json\n",
    "import matplotlib.pyplot as plt\n",
    "import numpy as np\n",
    "import os\n",
    "\n",
    "file_path =file_path_mona\n",
    "folder_name = '../media/monalisa_false'\n",
    "os.makedirs(folder_name, exist_ok=True)\n",
    "\n",
    "batch_size = 200 \n",
    "print('one')\n",
    "# Collect all 'dishwasher' drawings that are recognized as 'false'\n",
    "selected_drawings = []\n",
    "with open(file_path, 'r') as file:\n",
    "    for line in file:\n",
    "        drawing = json.loads(line)\n",
    "        if not drawing['recognized']:\n",
    "            selected_drawings.append(drawing)\n",
    "print('two')\n",
    "# Process drawings in batches\n",
    "for batch_start in range(0, len(selected_drawings), batch_size):\n",
    "    batch_drawings = selected_drawings[batch_start:batch_start+batch_size]\n",
    "    num_drawings = len(batch_drawings)\n",
    "    grid_size = int(np.ceil(np.sqrt(num_drawings)))\n",
    "    print('three')\n",
    "    # Create a subplot grid for the current batch\n",
    "    fig, axes = plt.subplots(grid_size, grid_size, figsize=(15, 15))\n",
    "    axes = axes.flatten()\n",
    "    print('four')\n",
    "    for i, drawing_data in enumerate(batch_drawings):\n",
    "        for stroke in drawing_data['drawing']:\n",
    "            axes[i].plot(stroke[0], [-y for y in stroke[1]], color=\"black\")\n",
    "            axes[i].set_xlim(0, 255)\n",
    "            axes[i].set_ylim(-255, 0)\n",
    "        axes[i].set_title(f\"ID: {drawing_data['key_id']}\", fontsize=6)\n",
    "        axes[i].axis('off')\n",
    "    print('five')\n",
    "    # Hide any unused subplots\n",
    "    for ax in axes[num_drawings:]:\n",
    "        ax.axis('off')\n",
    "\n",
    "    plt.tight_layout()\n",
    "    print('six')\n",
    "    # Save the plot as an image for the current batch\n",
    "    #output_file = f'fan_false_batch_{batch_start}_{batch_start+num_drawings}.png'\n",
    "    output_file = os.path.join(folder_name, f'monalisa_false_batch_{batch_start}_{batch_start+num_drawings}.png')\n",
    "    plt.savefig(output_file, bbox_inches='tight')\n",
    "    plt.close()\n",
    "    print('seven')\n",
    "    print(f\"Saved batch {batch_start} to {batch_start+num_drawings} as {output_file}\")\n",
    "\n",
    "print(\"Finished processing all batches.\")\n"
   ]
  },
  {
   "cell_type": "code",
   "execution_count": null,
   "id": "46aa6052",
   "metadata": {},
   "outputs": [],
   "source": []
  }
 ],
 "metadata": {
  "kernelspec": {
   "display_name": "Python 3 (ipykernel)",
   "language": "python",
   "name": "python3"
  },
  "language_info": {
   "codemirror_mode": {
    "name": "ipython",
    "version": 3
   },
   "file_extension": ".py",
   "mimetype": "text/x-python",
   "name": "python",
   "nbconvert_exporter": "python",
   "pygments_lexer": "ipython3",
   "version": "3.9.13"
  }
 },
 "nbformat": 4,
 "nbformat_minor": 5
}
